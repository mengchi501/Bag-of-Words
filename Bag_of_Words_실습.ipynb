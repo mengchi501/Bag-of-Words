{
  "metadata": {
    "kernelspec": {
      "language": "python",
      "display_name": "Python 3",
      "name": "python3"
    },
    "language_info": {
      "name": "python",
      "version": "3.10.14",
      "mimetype": "text/x-python",
      "codemirror_mode": {
        "name": "ipython",
        "version": 3
      },
      "pygments_lexer": "ipython3",
      "nbconvert_exporter": "python",
      "file_extension": ".py"
    },
    "kaggle": {
      "accelerator": "none",
      "dataSources": [
        {
          "sourceId": 3971,
          "databundleVersionId": 32703,
          "sourceType": "competition"
        }
      ],
      "dockerImageVersionId": 30761,
      "isInternetEnabled": true,
      "language": "python",
      "sourceType": "notebook",
      "isGpuEnabled": false
    },
    "colab": {
      "provenance": [],
      "include_colab_link": true
    }
  },
  "nbformat_minor": 0,
  "nbformat": 4,
  "cells": [
    {
      "cell_type": "markdown",
      "metadata": {
        "id": "view-in-github",
        "colab_type": "text"
      },
      "source": [
        "<a href=\"https://colab.research.google.com/github/mengchi501/Bag-of-Words/blob/data_preprocess/Bag_of_Words_%EC%8B%A4%EC%8A%B5.ipynb\" target=\"_parent\"><img src=\"https://colab.research.google.com/assets/colab-badge.svg\" alt=\"Open In Colab\"/></a>"
      ]
    },
    {
      "cell_type": "code",
      "source": [
        "import os"
      ],
      "metadata": {
        "id": "p9xEP_9Nokf5"
      },
      "execution_count": 1,
      "outputs": []
    },
    {
      "cell_type": "code",
      "source": [
        "from google.colab import drive\n",
        "drive.mount('/content/drive')"
      ],
      "metadata": {
        "colab": {
          "base_uri": "https://localhost:8080/"
        },
        "id": "j7x-J9xknLJQ",
        "outputId": "6c531ffe-8d29-43e5-98ff-35298bd009e1"
      },
      "execution_count": 5,
      "outputs": [
        {
          "output_type": "stream",
          "name": "stdout",
          "text": [
            "Mounted at /content/drive\n"
          ]
        }
      ]
    },
    {
      "cell_type": "code",
      "source": [
        "data_dir = '/content/drive/MyDrive/Bag of Words Data'\n",
        "\n",
        "os.listdir(data_dir)"
      ],
      "metadata": {
        "colab": {
          "base_uri": "https://localhost:8080/"
        },
        "id": "DsCPXCvJ0ndm",
        "outputId": "1af1ded5-bb1b-48ad-bd35-b7ac1e76288e"
      },
      "execution_count": 6,
      "outputs": [
        {
          "output_type": "execute_result",
          "data": {
            "text/plain": [
              "['labeledTrainData.tsv',\n",
              " 'testData.tsv',\n",
              " 'unlabeledTrainData.tsv',\n",
              " 'sampleSubmission.csv']"
            ]
          },
          "metadata": {},
          "execution_count": 6
        }
      ]
    },
    {
      "cell_type": "markdown",
      "source": [
        "# Preprocess Data\n",
        "\n",
        "전처리 작업\n",
        "\n",
        "<s>1. 문장에 끼어있는 html tag들 제거</s>\n",
        "\n",
        "<s>2. 단어 단위로 parse</s>\n",
        "\n",
        "3. vectorize\n",
        "\n",
        "4. 필요 없는 단어들 제거하기 위해 Stopword 사용"
      ],
      "metadata": {
        "id": "ppHRqGnf9l7P"
      }
    },
    {
      "cell_type": "code",
      "source": [
        "import nltk\n",
        "import pandas as pd\n",
        "import numpy as np\n",
        "\n",
        "nltk.download('stopwords') # 불용어 다운로드\n",
        "\n",
        "from nltk.corpus import stopwords"
      ],
      "metadata": {
        "colab": {
          "base_uri": "https://localhost:8080/"
        },
        "id": "ou_RPkgOm5tl",
        "outputId": "02251a3b-10fa-4aec-b806-222c44e26020"
      },
      "execution_count": 7,
      "outputs": [
        {
          "output_type": "stream",
          "name": "stderr",
          "text": [
            "[nltk_data] Downloading package stopwords to /root/nltk_data...\n",
            "[nltk_data]   Unzipping corpora/stopwords.zip.\n"
          ]
        }
      ]
    },
    {
      "cell_type": "code",
      "source": [
        "stopwords.words('english')[:10]"
      ],
      "metadata": {
        "colab": {
          "base_uri": "https://localhost:8080/"
        },
        "id": "JmWSjNr-pvI6",
        "outputId": "918e1050-7b19-418f-84bd-8790f6c20687"
      },
      "execution_count": 13,
      "outputs": [
        {
          "output_type": "execute_result",
          "data": {
            "text/plain": [
              "['i', 'me', 'my', 'myself', 'we', 'our', 'ours', 'ourselves', 'you', \"you're\"]"
            ]
          },
          "metadata": {},
          "execution_count": 13
        }
      ]
    },
    {
      "cell_type": "code",
      "source": [
        "labeled_train_df = pd.read_csv(os.path.join(data_dir, 'labeledTrainData.tsv'), sep='\\t')\n",
        "train_review = labeled_train_df.loc[:,'review']\n",
        "train_sentiment = labeled_train_df.loc[:,'sentiment']"
      ],
      "metadata": {
        "id": "tkuXJFnz45EQ"
      },
      "execution_count": 9,
      "outputs": []
    },
    {
      "cell_type": "code",
      "source": [
        "train_review[0]"
      ],
      "metadata": {
        "colab": {
          "base_uri": "https://localhost:8080/",
          "height": 137
        },
        "id": "8fTOjDTd2nn7",
        "outputId": "30f7b9ef-761c-4f42-ec7a-4bdf5cda5cef"
      },
      "execution_count": 10,
      "outputs": [
        {
          "output_type": "execute_result",
          "data": {
            "text/plain": [
              "\"With all this stuff going down at the moment with MJ i've started listening to his music, watching the odd documentary here and there, watched The Wiz and watched Moonwalker again. Maybe i just want to get a certain insight into this guy who i thought was really cool in the eighties just to maybe make up my mind whether he is guilty or innocent. Moonwalker is part biography, part feature film which i remember going to see at the cinema when it was originally released. Some of it has subtle messages about MJ's feeling towards the press and also the obvious message of drugs are bad m'kay.<br /><br />Visually impressive but of course this is all about Michael Jackson so unless you remotely like MJ in anyway then you are going to hate this and find it boring. Some may call MJ an egotist for consenting to the making of this movie BUT MJ and most of his fans would say that he made it for the fans which if true is really nice of him.<br /><br />The actual feature film bit when it finally starts is only on for 20 minutes or so excluding the Smooth Criminal sequence and Joe Pesci is convincing as a psychopathic all powerful drug lord. Why he wants MJ dead so bad is beyond me. Because MJ overheard his plans? Nah, Joe Pesci's character ranted that he wanted people to know it is he who is supplying drugs etc so i dunno, maybe he just hates MJ's music.<br /><br />Lots of cool things in this like MJ turning into a car and a robot and the whole Speed Demon sequence. Also, the director must have had the patience of a saint when it came to filming the kiddy Bad sequence as usually directors hate working with one kid let alone a whole bunch of them performing a complex dance scene.<br /><br />Bottom line, this movie is for people who like MJ on one level or another (which i think is most people). If not, then stay away. It does try and give off a wholesome message and ironically MJ's bestest buddy in this movie is a girl! Michael Jackson is truly one of the most talented people ever to grace this planet but is he guilty? Well, with all the attention i've gave this subject....hmmm well i don't know because people can be different behind closed doors, i know this for a fact. He is either an extremely nice but stupid guy or one of the most sickest liars. I hope he is not the latter.\""
            ],
            "application/vnd.google.colaboratory.intrinsic+json": {
              "type": "string"
            }
          },
          "metadata": {},
          "execution_count": 10
        }
      ]
    },
    {
      "cell_type": "markdown",
      "source": [
        "Beautiful Soup를 사용해서 train_review data에 섞여있는 html tag들을 제거해주자"
      ],
      "metadata": {
        "id": "eD2Lm5SKudNv"
      }
    },
    {
      "cell_type": "code",
      "source": [
        "from bs4 import BeautifulSoup # html tag를 제거하는 기능이 포함되어 있는 라이브러리\n",
        "import re # 정규 표현식을 활용할 수 있는 라이브러리"
      ],
      "metadata": {
        "id": "T_G3q0SnuZ3U"
      },
      "execution_count": 11,
      "outputs": []
    },
    {
      "cell_type": "code",
      "source": [
        "def review_to_words(review):\n",
        "    only_text = BeautifulSoup(review).get_text() # html tag를 모두 제거\n",
        "    only_alpha = re.sub(\"[^a-zA-Z]\", \" \", only_text) # 특수문자들 모두 제거\n",
        "    words = only_alpha.lower().split() # 소문자로 변환하고 Tokenize\n",
        "    words = [w for w in words if w not in stopwords.words('english')] # 불용어 제거\n",
        "    return words"
      ],
      "metadata": {
        "id": "6voleu6Kv1a7"
      },
      "execution_count": 16,
      "outputs": []
    },
    {
      "cell_type": "code",
      "source": [
        "train_review[0]"
      ],
      "metadata": {
        "id": "28Gi6GY0xlHz",
        "colab": {
          "base_uri": "https://localhost:8080/",
          "height": 137
        },
        "outputId": "58f75124-8326-4f55-96e2-0ca919afcc7e"
      },
      "execution_count": 15,
      "outputs": [
        {
          "output_type": "execute_result",
          "data": {
            "text/plain": [
              "\"With all this stuff going down at the moment with MJ i've started listening to his music, watching the odd documentary here and there, watched The Wiz and watched Moonwalker again. Maybe i just want to get a certain insight into this guy who i thought was really cool in the eighties just to maybe make up my mind whether he is guilty or innocent. Moonwalker is part biography, part feature film which i remember going to see at the cinema when it was originally released. Some of it has subtle messages about MJ's feeling towards the press and also the obvious message of drugs are bad m'kay.<br /><br />Visually impressive but of course this is all about Michael Jackson so unless you remotely like MJ in anyway then you are going to hate this and find it boring. Some may call MJ an egotist for consenting to the making of this movie BUT MJ and most of his fans would say that he made it for the fans which if true is really nice of him.<br /><br />The actual feature film bit when it finally starts is only on for 20 minutes or so excluding the Smooth Criminal sequence and Joe Pesci is convincing as a psychopathic all powerful drug lord. Why he wants MJ dead so bad is beyond me. Because MJ overheard his plans? Nah, Joe Pesci's character ranted that he wanted people to know it is he who is supplying drugs etc so i dunno, maybe he just hates MJ's music.<br /><br />Lots of cool things in this like MJ turning into a car and a robot and the whole Speed Demon sequence. Also, the director must have had the patience of a saint when it came to filming the kiddy Bad sequence as usually directors hate working with one kid let alone a whole bunch of them performing a complex dance scene.<br /><br />Bottom line, this movie is for people who like MJ on one level or another (which i think is most people). If not, then stay away. It does try and give off a wholesome message and ironically MJ's bestest buddy in this movie is a girl! Michael Jackson is truly one of the most talented people ever to grace this planet but is he guilty? Well, with all the attention i've gave this subject....hmmm well i don't know because people can be different behind closed doors, i know this for a fact. He is either an extremely nice but stupid guy or one of the most sickest liars. I hope he is not the latter.\""
            ],
            "application/vnd.google.colaboratory.intrinsic+json": {
              "type": "string"
            }
          },
          "metadata": {},
          "execution_count": 15
        }
      ]
    },
    {
      "cell_type": "code",
      "source": [
        "review_to_words(train_review[0])"
      ],
      "metadata": {
        "colab": {
          "base_uri": "https://localhost:8080/"
        },
        "id": "zJ66PMZATTCe",
        "outputId": "6b0eada2-3a20-4a63-f726-589656185e7f"
      },
      "execution_count": 17,
      "outputs": [
        {
          "output_type": "execute_result",
          "data": {
            "text/plain": [
              "['stuff',\n",
              " 'going',\n",
              " 'moment',\n",
              " 'mj',\n",
              " 'started',\n",
              " 'listening',\n",
              " 'music',\n",
              " 'watching',\n",
              " 'odd',\n",
              " 'documentary',\n",
              " 'watched',\n",
              " 'wiz',\n",
              " 'watched',\n",
              " 'moonwalker',\n",
              " 'maybe',\n",
              " 'want',\n",
              " 'get',\n",
              " 'certain',\n",
              " 'insight',\n",
              " 'guy',\n",
              " 'thought',\n",
              " 'really',\n",
              " 'cool',\n",
              " 'eighties',\n",
              " 'maybe',\n",
              " 'make',\n",
              " 'mind',\n",
              " 'whether',\n",
              " 'guilty',\n",
              " 'innocent',\n",
              " 'moonwalker',\n",
              " 'part',\n",
              " 'biography',\n",
              " 'part',\n",
              " 'feature',\n",
              " 'film',\n",
              " 'remember',\n",
              " 'going',\n",
              " 'see',\n",
              " 'cinema',\n",
              " 'originally',\n",
              " 'released',\n",
              " 'subtle',\n",
              " 'messages',\n",
              " 'mj',\n",
              " 'feeling',\n",
              " 'towards',\n",
              " 'press',\n",
              " 'also',\n",
              " 'obvious',\n",
              " 'message',\n",
              " 'drugs',\n",
              " 'bad',\n",
              " 'kay',\n",
              " 'visually',\n",
              " 'impressive',\n",
              " 'course',\n",
              " 'michael',\n",
              " 'jackson',\n",
              " 'unless',\n",
              " 'remotely',\n",
              " 'like',\n",
              " 'mj',\n",
              " 'anyway',\n",
              " 'going',\n",
              " 'hate',\n",
              " 'find',\n",
              " 'boring',\n",
              " 'may',\n",
              " 'call',\n",
              " 'mj',\n",
              " 'egotist',\n",
              " 'consenting',\n",
              " 'making',\n",
              " 'movie',\n",
              " 'mj',\n",
              " 'fans',\n",
              " 'would',\n",
              " 'say',\n",
              " 'made',\n",
              " 'fans',\n",
              " 'true',\n",
              " 'really',\n",
              " 'nice',\n",
              " 'actual',\n",
              " 'feature',\n",
              " 'film',\n",
              " 'bit',\n",
              " 'finally',\n",
              " 'starts',\n",
              " 'minutes',\n",
              " 'excluding',\n",
              " 'smooth',\n",
              " 'criminal',\n",
              " 'sequence',\n",
              " 'joe',\n",
              " 'pesci',\n",
              " 'convincing',\n",
              " 'psychopathic',\n",
              " 'powerful',\n",
              " 'drug',\n",
              " 'lord',\n",
              " 'wants',\n",
              " 'mj',\n",
              " 'dead',\n",
              " 'bad',\n",
              " 'beyond',\n",
              " 'mj',\n",
              " 'overheard',\n",
              " 'plans',\n",
              " 'nah',\n",
              " 'joe',\n",
              " 'pesci',\n",
              " 'character',\n",
              " 'ranted',\n",
              " 'wanted',\n",
              " 'people',\n",
              " 'know',\n",
              " 'supplying',\n",
              " 'drugs',\n",
              " 'etc',\n",
              " 'dunno',\n",
              " 'maybe',\n",
              " 'hates',\n",
              " 'mj',\n",
              " 'music',\n",
              " 'lots',\n",
              " 'cool',\n",
              " 'things',\n",
              " 'like',\n",
              " 'mj',\n",
              " 'turning',\n",
              " 'car',\n",
              " 'robot',\n",
              " 'whole',\n",
              " 'speed',\n",
              " 'demon',\n",
              " 'sequence',\n",
              " 'also',\n",
              " 'director',\n",
              " 'must',\n",
              " 'patience',\n",
              " 'saint',\n",
              " 'came',\n",
              " 'filming',\n",
              " 'kiddy',\n",
              " 'bad',\n",
              " 'sequence',\n",
              " 'usually',\n",
              " 'directors',\n",
              " 'hate',\n",
              " 'working',\n",
              " 'one',\n",
              " 'kid',\n",
              " 'let',\n",
              " 'alone',\n",
              " 'whole',\n",
              " 'bunch',\n",
              " 'performing',\n",
              " 'complex',\n",
              " 'dance',\n",
              " 'scene',\n",
              " 'bottom',\n",
              " 'line',\n",
              " 'movie',\n",
              " 'people',\n",
              " 'like',\n",
              " 'mj',\n",
              " 'one',\n",
              " 'level',\n",
              " 'another',\n",
              " 'think',\n",
              " 'people',\n",
              " 'stay',\n",
              " 'away',\n",
              " 'try',\n",
              " 'give',\n",
              " 'wholesome',\n",
              " 'message',\n",
              " 'ironically',\n",
              " 'mj',\n",
              " 'bestest',\n",
              " 'buddy',\n",
              " 'movie',\n",
              " 'girl',\n",
              " 'michael',\n",
              " 'jackson',\n",
              " 'truly',\n",
              " 'one',\n",
              " 'talented',\n",
              " 'people',\n",
              " 'ever',\n",
              " 'grace',\n",
              " 'planet',\n",
              " 'guilty',\n",
              " 'well',\n",
              " 'attention',\n",
              " 'gave',\n",
              " 'subject',\n",
              " 'hmmm',\n",
              " 'well',\n",
              " 'know',\n",
              " 'people',\n",
              " 'different',\n",
              " 'behind',\n",
              " 'closed',\n",
              " 'doors',\n",
              " 'know',\n",
              " 'fact',\n",
              " 'either',\n",
              " 'extremely',\n",
              " 'nice',\n",
              " 'stupid',\n",
              " 'guy',\n",
              " 'one',\n",
              " 'sickest',\n",
              " 'liars',\n",
              " 'hope',\n",
              " 'latter']"
            ]
          },
          "metadata": {},
          "execution_count": 17
        }
      ]
    },
    {
      "cell_type": "code",
      "source": [],
      "metadata": {
        "id": "ywbP-V6wTXdN"
      },
      "execution_count": null,
      "outputs": []
    }
  ]
}